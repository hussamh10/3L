{
 "cells": [
  {
   "cell_type": "markdown",
   "metadata": {},
   "source": [
    "#### Things to try to improve acc.\n",
    "1. Change Dense activation functions\n",
    "2. More data\n",
    "3. More layers\n",
    "4. Change loss function\n",
    "5. Change optimizer\n",
    "6. Give time\n",
    "7. Check if data is correctly labeled"
   ]
  },
  {
   "cell_type": "code",
   "execution_count": 1,
   "metadata": {},
   "outputs": [
    {
     "name": "stderr",
     "output_type": "stream",
     "text": [
      "Using TensorFlow backend.\n"
     ]
    }
   ],
   "source": [
    "%matplotlib inline\n",
    "\n",
    "from __future__ import print_function\n",
    "import keras\n",
    "import numpy as np\n",
    "import pickle \n",
    "\n",
    "from keras.datasets import mnist\n",
    "from keras.models import Sequential\n",
    "from keras.layers import Dense, Dropout, Flatten, Merge\n",
    "from keras.layers import Conv2D, MaxPooling2D, Activation\n",
    "from keras import backend as K\n",
    "from keras.utils import plot_model\n",
    "from cv2 import imread\n",
    "\n",
    "from matplotlib import pyplot as plt\n",
    "from IPython.display import clear_output\n",
    "\n",
    "from old_data import getVideoData\n",
    "from old_data import getAudioData\n",
    "from old_data import getFusionData"
   ]
  },
  {
   "cell_type": "markdown",
   "metadata": {},
   "source": [
    "## Utility functions\n",
    "#### Plotting Errors\n",
    "#### Saving and Loading"
   ]
  },
  {
   "cell_type": "code",
   "execution_count": 2,
   "metadata": {
    "collapsed": true
   },
   "outputs": [],
   "source": [
    "class PlotLosses(keras.callbacks.Callback):\n",
    "    def on_train_begin(self, logs={}):\n",
    "        self.i = 0\n",
    "        self.x = []\n",
    "        self.losses = []\n",
    "        self.val_losses = []\n",
    "        \n",
    "        self.fig = plt.figure()\n",
    "        \n",
    "        self.logs = []\n",
    "\n",
    "    def on_epoch_end(self, epoch, logs={}):\n",
    "        \n",
    "        self.logs.append(logs)\n",
    "        self.x.append(self.i)\n",
    "        self.losses.append(logs.get('loss'))\n",
    "        self.val_losses.append(logs.get('val_loss'))\n",
    "        self.i += 1\n",
    "        \n",
    "        clear_output(wait=True)\n",
    "        plt.plot(self.x, self.losses, label=\"loss\")\n",
    "        plt.plot(self.x, self.val_losses, label=\"val_loss\")\n",
    "        plt.legend()\n",
    "        plt.show();\n",
    "        \n",
    "plot_losses = PlotLosses()\n",
    "\n",
    "def saveWeights(model, fname):\n",
    "    model.save_weights(fname)\n",
    "\n",
    "def loadModel(fname):\n",
    "    model = fusedMain()\n",
    "    model.load_weights(fname)\n",
    "    return model"
   ]
  },
  {
   "cell_type": "code",
   "execution_count": 3,
   "metadata": {
    "scrolled": false
   },
   "outputs": [
    {
     "name": "stdout",
     "output_type": "stream",
     "text": [
      "_________________________________________________________________\n",
      "Layer (type)                 Output Shape              Param #   \n",
      "=================================================================\n",
      "conv2d_1 (Conv2D)            (None, 224, 224, 16)      448       \n",
      "_________________________________________________________________\n",
      "max_pooling2d_1 (MaxPooling2 (None, 112, 112, 16)      0         \n",
      "_________________________________________________________________\n",
      "dropout_1 (Dropout)          (None, 112, 112, 16)      0         \n",
      "_________________________________________________________________\n",
      "conv2d_2 (Conv2D)            (None, 112, 112, 32)      4640      \n",
      "_________________________________________________________________\n",
      "max_pooling2d_2 (MaxPooling2 (None, 56, 56, 32)        0         \n",
      "_________________________________________________________________\n",
      "dropout_2 (Dropout)          (None, 56, 56, 32)        0         \n",
      "_________________________________________________________________\n",
      "conv2d_3 (Conv2D)            (None, 56, 56, 64)        18496     \n",
      "_________________________________________________________________\n",
      "max_pooling2d_3 (MaxPooling2 (None, 28, 28, 64)        0         \n",
      "_________________________________________________________________\n",
      "dropout_3 (Dropout)          (None, 28, 28, 64)        0         \n",
      "_________________________________________________________________\n",
      "conv2d_4 (Conv2D)            (None, 28, 28, 128)       73856     \n",
      "_________________________________________________________________\n",
      "max_pooling2d_4 (MaxPooling2 (None, 1, 1, 128)         0         \n",
      "_________________________________________________________________\n",
      "dropout_4 (Dropout)          (None, 1, 1, 128)         0         \n",
      "=================================================================\n",
      "Total params: 97,440\n",
      "Trainable params: 97,440\n",
      "Non-trainable params: 0\n",
      "_________________________________________________________________\n"
     ]
    }
   ],
   "source": [
    "def getModelArchitecture(input_shape, final_pool):\n",
    "    cmodel = Sequential()\n",
    "\n",
    "    #cmodel.add(Conv2D(32, kernel_size=(3, 3), activation='relu', input_shape=input_shape, padding = 'same'))\n",
    "    cmodel.add(Conv2D(16, kernel_size=(3, 3), activation='relu', input_shape=input_shape, padding = 'same'))\n",
    "    #cmodel.add(Conv2D(64, kernel_size=(3, 3), activation='relu', padding='same'))\n",
    "    cmodel.add(MaxPooling2D(pool_size=(2, 2), strides=2, padding='same'))\n",
    "    cmodel.add(Dropout(0.25))\n",
    "\n",
    "    cmodel.add(Conv2D(32, kernel_size=(3, 3), activation='relu', padding='same'))\n",
    "    #cmodel.add(Conv2D(128, kernel_size=(3, 3), activation='relu', padding='same'))\n",
    "    cmodel.add(MaxPooling2D(pool_size=(2, 2), strides=2, padding='same'))\n",
    "    cmodel.add(Dropout(0.25))\n",
    "\n",
    "    #cmodel.add(Conv2D(64, kernel_size=(3, 3), activation='relu', padding='same'))\n",
    "    cmodel.add(Conv2D(64, kernel_size=(3, 3), activation='relu', padding='same'))\n",
    "    #cmodel.add(Conv2D(256, kernel_size=(3, 3), activation='relu', padding='same'))\n",
    "    cmodel.add(MaxPooling2D(pool_size=(2, 2), strides=2, padding='same'))\n",
    "    cmodel.add(Dropout(0.25))\n",
    "\n",
    "    #cmodel.add(Conv2D(32, kernel_size=(3, 3), activation='relu', padding='same'))\n",
    "    cmodel.add(Conv2D(128, kernel_size=(3, 3), activation='relu', padding='same'))\n",
    "    #cmodel.add(Conv2D(512, kernel_size=(3, 3), activation='relu', padding='same'))\n",
    "    cmodel.add(MaxPooling2D(pool_size=(final_pool), strides=None, padding='same'))\n",
    "    cmodel.add(Dropout(0.25))\n",
    "\n",
    "#    cmodel.add(Flatten())\n",
    "#    cmodel.add(Dense(32, activation='sigmoid'))\n",
    "#    cmodel.add(Dropout(0.25))\n",
    "#    cmodel.add(Dense(2, activation='sigmoid'))\n",
    "\n",
    "    return cmodel\n",
    "\n",
    "#testing\n",
    "getModelArchitecture((224, 224, 3), (28, 28)).summary()"
   ]
  },
  {
   "cell_type": "markdown",
   "metadata": {},
   "source": [
    "## Code for building submodels."
   ]
  },
  {
   "cell_type": "code",
   "execution_count": 4,
   "metadata": {
    "collapsed": true
   },
   "outputs": [],
   "source": [
    "def vidMain():\n",
    "    model = getModelArchitecture((224, 224, 3), (28, 28))\n",
    "    model = addFCLayers(model)\n",
    "    model = getTrainedModel(model, dataFactory = getVideoData)\n",
    "\n",
    "    return model\n",
    "\n",
    "def audioMain():\n",
    "    model = getModelArchitecture((199, 257, 3), (25, 33))\n",
    "    model = addFCLayers(model)\n",
    "    model = getTrainedModel(model, dataFactory = getAudioData)"
   ]
  },
  {
   "cell_type": "markdown",
   "metadata": {},
   "source": [
    "## Fusion branch"
   ]
  },
  {
   "cell_type": "code",
   "execution_count": 5,
   "metadata": {
    "collapsed": true
   },
   "outputs": [],
   "source": [
    "def fusionBranch(video_branch, audio_branch):\n",
    "\n",
    "    final = Sequential()\n",
    "    final.add(Merge([video_branch, audio_branch]))\n",
    "    final.add(Dense(512, activation='sigmoid'))\n",
    "    final.add(Dense(128, activation='sigmoid'))\n",
    "    final.add(Flatten())\n",
    "    final.add(Dense(1, activation='sigmoid'))\n",
    "\n",
    "    final.compile(loss='mse',\n",
    "            #optimizer=keras.optimizers.Adadelta(),\n",
    "            optimizer='adam',\n",
    "            metrics=['accuracy']\n",
    "            )\n",
    "\n",
    "\n",
    "    return final"
   ]
  },
  {
   "cell_type": "code",
   "execution_count": 6,
   "metadata": {
    "collapsed": true
   },
   "outputs": [],
   "source": [
    "def trainFinal(final):\n",
    "    print('Getting data...')\n",
    "    audio_video_data_tuple, label_on_correspondence, test_data, test_labels= getFusionData()\n",
    "    print('Data ready')\n",
    "\n",
    "    final.fit(audio_video_data_tuple, label_on_correspondence,\n",
    "            batch_size=10, epochs=100, verbose=1, callbacks=[plot_losses],\n",
    "             validation_data=(test_data, test_labels))\n",
    "              \n",
    "    print(final.evaluate(test_data, test_labels, verbose=1))\n",
    "\n",
    "    return final"
   ]
  },
  {
   "cell_type": "markdown",
   "metadata": {},
   "source": [
    "## Main"
   ]
  },
  {
   "cell_type": "code",
   "execution_count": 7,
   "metadata": {
    "scrolled": false
   },
   "outputs": [
    {
     "data": {
      "image/png": "[encoded data removed]",
      "text/plain": [
       "<matplotlib.figure.Figure at 0x25ba46466d8>"
      ]
     },
     "metadata": {},
     "output_type": "display_data"
    },
    {
     "name": "stdout",
     "output_type": "stream",
     "text": [
      "1600/1600 [==============================] - 7s - loss: 0.1677 - acc: 0.7500 - val_loss: 0.0529 - val_acc: 1.0000\n",
      "200/200 [==============================] - 0s     \n",
      "[0.052946923367258023, 1.0]\n"
     ]
    }
   ],
   "source": [
    "def fusedMain():\n",
    "    vmodel = getModelArchitecture((224, 224, 3), (28, 28))\n",
    "    amodel = getModelArchitecture((199, 257, 3), (25, 33))\n",
    "    \n",
    "    f = fusionBranch(vmodel, amodel)\n",
    "\n",
    "    return f\n",
    "\n",
    "if __name__ == '__main__':\n",
    "    f = fusedMain()\n",
    "    f = trainFinal(f)\n",
    "    saveWeights(f, 'model.h5')"
   ]
  },
  {
   "cell_type": "markdown",
   "metadata": {},
   "source": [
    "### Test code below for sub-model training."
   ]
  },
  {
   "cell_type": "code",
   "execution_count": 8,
   "metadata": {
    "collapsed": true
   },
   "outputs": [],
   "source": [
    "def addFCLayers(cmodel):\n",
    "\n",
    "    cmodel.add(Flatten())\n",
    "    cmodel.add(Dense(32, activation='sigmoid'))\n",
    "    cmodel.add(Dropout(0.25))\n",
    "    cmodel.add(Dense(2, activation='sigmoid'))\n",
    "\n",
    "    return cmodel\n",
    "    \n",
    "\n",
    "def trainModel(model, x_train, y_train, x_test, y_test):\n",
    "    model.compile(loss='categorical_crossentropy', \n",
    "            optimizer=keras.optimizers.Adadelta(),\n",
    "            metrics=['accuracy'])\n",
    "\n",
    "    model.fit(x_train, y_train, \n",
    "            batch_size=8,\n",
    "            verbose=1,\n",
    "            validation_data=(x_test, y_test))\n",
    "\n",
    "    return model"
   ]
  }
 ],
 "metadata": {
  "kernelspec": {
   "display_name": "Python 3",
   "language": "python",
   "name": "python3"
  },
  "language_info": {
   "codemirror_mode": {
    "name": "ipython",
    "version": 3
   },
   "file_extension": ".py",
   "mimetype": "text/x-python",
   "name": "python",
   "nbconvert_exporter": "python",
   "pygments_lexer": "ipython3",
   "version": "3.5.4"
  }
 },
 "nbformat": 4,
 "nbformat_minor": 2
}
