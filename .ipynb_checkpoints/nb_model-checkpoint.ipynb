{
 "cells": [
  {
   "cell_type": "code",
   "execution_count": 23,
   "metadata": {
    "collapsed": true
   },
   "outputs": [],
   "source": [
    "%matplotlib inline\n",
    "\n",
    "from __future__ import print_function\n",
    "import keras\n",
    "import numpy as np\n",
    "import pickle \n",
    "\n",
    "from keras.datasets import mnist\n",
    "from keras.models import Sequential\n",
    "from keras.layers import Dense, Dropout, Flatten, Merge\n",
    "from keras.layers import Conv2D, MaxPooling2D, Activation\n",
    "from keras import backend as K\n",
    "from keras.utils import plot_model\n",
    "from cv2 import imread\n",
    "\n",
    "from matplotlib import pyplot as plt\n",
    "from IPython.display import clear_output\n",
    "\n",
    "from data import getVideoData\n",
    "from data import getAudioData\n",
    "from data import getFusionData"
   ]
  },
  {
   "cell_type": "code",
   "execution_count": 24,
   "metadata": {
    "collapsed": true
   },
   "outputs": [],
   "source": [
    "def getModelArchitecture(input_shape, final_pool):\n",
    "    cmodel = Sequential()\n",
    "\n",
    "    #cmodel.add(Conv2D(32, kernel_size=(3, 3), activation='relu', input_shape=input_shape, padding = 'same'))\n",
    "    cmodel.add(Conv2D(16, kernel_size=(3, 3), activation='relu', input_shape=input_shape, padding = 'same'))\n",
    "    #cmodel.add(Conv2D(64, kernel_size=(3, 3), activation='relu', padding='same'))\n",
    "    cmodel.add(MaxPooling2D(pool_size=(2, 2), strides=2, padding='same'))\n",
    "    cmodel.add(Dropout(0.25))\n",
    "\n",
    "    cmodel.add(Conv2D(32, kernel_size=(3, 3), activation='relu', padding='same'))\n",
    "    #cmodel.add(Conv2D(128, kernel_size=(3, 3), activation='relu', padding='same'))\n",
    "    cmodel.add(MaxPooling2D(pool_size=(2, 2), strides=2, padding='same'))\n",
    "    cmodel.add(Dropout(0.25))\n",
    "\n",
    "    #cmodel.add(Conv2D(64, kernel_size=(3, 3), activation='relu', padding='same'))\n",
    "    cmodel.add(Conv2D(64, kernel_size=(3, 3), activation='relu', padding='same'))\n",
    "    #cmodel.add(Conv2D(256, kernel_size=(3, 3), activation='relu', padding='same'))\n",
    "    cmodel.add(MaxPooling2D(pool_size=(2, 2), strides=2, padding='same'))\n",
    "    cmodel.add(Dropout(0.25))\n",
    "\n",
    "    #cmodel.add(Conv2D(32, kernel_size=(3, 3), activation='relu', padding='same'))\n",
    "    cmodel.add(Conv2D(128, kernel_size=(3, 3), activation='relu', padding='same'))\n",
    "    #cmodel.add(Conv2D(512, kernel_size=(3, 3), activation='relu', padding='same'))\n",
    "    cmodel.add(MaxPooling2D(pool_size=(final_pool), strides=None, padding='same'))\n",
    "    cmodel.add(Dropout(0.25))\n",
    "\n",
    "#    cmodel.add(Flatten())\n",
    "#    cmodel.add(Dense(32, activation='sigmoid'))\n",
    "#    cmodel.add(Dropout(0.25))\n",
    "#    cmodel.add(Dense(2, activation='sigmoid'))\n",
    "\n",
    "    print(cmodel.summary())\n",
    "\n",
    "    return cmodel"
   ]
  },
  {
   "cell_type": "code",
   "execution_count": 25,
   "metadata": {
    "collapsed": true
   },
   "outputs": [],
   "source": [
    "def fusionBranch(video_branch, audio_branch):\n",
    "\n",
    "    final = Sequential()\n",
    "    final.add(Merge([video_branch, audio_branch]))\n",
    "    #final.add(Dense(512, activation='relu'))\n",
    "    final.add(Dense(128, activation='relu'))\n",
    "    final.add(Flatten())\n",
    "    final.add(Dense(2, activation='softmax'))\n",
    "\n",
    "    final.compile(loss='categorical_crossentropy',\n",
    "            optimizer=keras.optimizers.Adadelta(),\n",
    "            #optimizer='adam',\n",
    "            metrics=['accuracy']\n",
    "            )\n",
    "    \n",
    "    return final\n",
    "\n",
    "def trainFinal(final):\n",
    "    print('Getting data...')\n",
    "    audio_video_data_tuple, label_on_correspondence = getFusionData()\n",
    "    print('Data ready')\n",
    "\n",
    "    final.fit(audio_video_data_tuple, label_on_correspondence,\n",
    "            batch_size=10, epochs=20, verbose=1)\n",
    "\n",
    "    return final"
   ]
  },
  {
   "cell_type": "markdown",
   "metadata": {},
   "source": [
    "### Test code below for sub-model training."
   ]
  },
  {
   "cell_type": "code",
   "execution_count": 26,
   "metadata": {
    "collapsed": true
   },
   "outputs": [],
   "source": [
    "def addFCLayers(cmodel):\n",
    "\n",
    "    cmodel.add(Flatten())\n",
    "    cmodel.add(Dense(32, activation='sigmoid'))\n",
    "    cmodel.add(Dropout(0.25))\n",
    "    cmodel.add(Dense(2, activation='sigmoid'))\n",
    "\n",
    "    return cmodel\n",
    "    \n",
    "\n",
    "def trainModel(model, x_train, y_train, x_test, y_test):\n",
    "    model.compile(loss='categorical_crossentropy', \n",
    "            optimizer=keras.optimizers.Adadelta(),\n",
    "            metrics=['accuracy'])\n",
    "\n",
    "    model.fit(x_train, y_train, \n",
    "            batch_size=8,\n",
    "            verbose=1,\n",
    "            validation_data=(x_test, y_test))\n",
    "\n",
    "    return model"
   ]
  },
  {
   "cell_type": "markdown",
   "metadata": {},
   "source": [
    "## Code for building submodels."
   ]
  },
  {
   "cell_type": "code",
   "execution_count": null,
   "metadata": {
    "collapsed": true
   },
   "outputs": [],
   "source": [
    "def vidMain():\n",
    "    model = getModelArchitecture((224, 224, 3), (28, 28))\n",
    "    model = addFCLayers(model)\n",
    "    model = getTrainedModel(model, dataFactory = getVideoData)\n",
    "\n",
    "    return model\n",
    "\n",
    "def audioMain():\n",
    "    model = getModelArchitecture((199, 257, 3), (25, 33))\n",
    "    model = addFCLayers(model)\n",
    "    model = getTrainedModel(model, dataFactory = getAudioData)"
   ]
  },
  {
   "cell_type": "markdown",
   "metadata": {},
   "source": [
    "## Main"
   ]
  },
  {
   "cell_type": "code",
   "execution_count": null,
   "metadata": {},
   "outputs": [
    {
     "name": "stdout",
     "output_type": "stream",
     "text": [
      "_________________________________________________________________\n",
      "Layer (type)                 Output Shape              Param #   \n",
      "=================================================================\n",
      "conv2d_25 (Conv2D)           (None, 224, 224, 16)      448       \n",
      "_________________________________________________________________\n",
      "max_pooling2d_25 (MaxPooling (None, 112, 112, 16)      0         \n",
      "_________________________________________________________________\n",
      "dropout_25 (Dropout)         (None, 112, 112, 16)      0         \n",
      "_________________________________________________________________\n",
      "conv2d_26 (Conv2D)           (None, 112, 112, 32)      4640      \n",
      "_________________________________________________________________\n",
      "max_pooling2d_26 (MaxPooling (None, 56, 56, 32)        0         \n",
      "_________________________________________________________________\n",
      "dropout_26 (Dropout)         (None, 56, 56, 32)        0         \n",
      "_________________________________________________________________\n",
      "conv2d_27 (Conv2D)           (None, 56, 56, 64)        18496     \n",
      "_________________________________________________________________\n",
      "max_pooling2d_27 (MaxPooling (None, 28, 28, 64)        0         \n",
      "_________________________________________________________________\n",
      "dropout_27 (Dropout)         (None, 28, 28, 64)        0         \n",
      "_________________________________________________________________\n",
      "conv2d_28 (Conv2D)           (None, 28, 28, 128)       73856     \n",
      "_________________________________________________________________\n",
      "max_pooling2d_28 (MaxPooling (None, 1, 1, 128)         0         \n",
      "_________________________________________________________________\n",
      "dropout_28 (Dropout)         (None, 1, 1, 128)         0         \n",
      "=================================================================\n",
      "Total params: 97,440\n",
      "Trainable params: 97,440\n",
      "Non-trainable params: 0\n",
      "_________________________________________________________________\n",
      "None\n",
      "_________________________________________________________________\n",
      "Layer (type)                 Output Shape              Param #   \n",
      "=================================================================\n",
      "conv2d_29 (Conv2D)           (None, 199, 257, 16)      448       \n",
      "_________________________________________________________________\n",
      "max_pooling2d_29 (MaxPooling (None, 100, 129, 16)      0         \n",
      "_________________________________________________________________\n",
      "dropout_29 (Dropout)         (None, 100, 129, 16)      0         \n",
      "_________________________________________________________________\n",
      "conv2d_30 (Conv2D)           (None, 100, 129, 32)      4640      \n",
      "_________________________________________________________________\n",
      "max_pooling2d_30 (MaxPooling (None, 50, 65, 32)        0         \n",
      "_________________________________________________________________\n",
      "dropout_30 (Dropout)         (None, 50, 65, 32)        0         \n",
      "_________________________________________________________________\n",
      "conv2d_31 (Conv2D)           (None, 50, 65, 64)        18496     \n",
      "_________________________________________________________________\n",
      "max_pooling2d_31 (MaxPooling (None, 25, 33, 64)        0         \n",
      "_________________________________________________________________\n",
      "dropout_31 (Dropout)         (None, 25, 33, 64)        0         \n",
      "_________________________________________________________________\n",
      "conv2d_32 (Conv2D)           (None, 25, 33, 128)       73856     \n",
      "_________________________________________________________________\n",
      "max_pooling2d_32 (MaxPooling (None, 1, 1, 128)         0         \n",
      "_________________________________________________________________\n",
      "dropout_32 (Dropout)         (None, 1, 1, 128)         0         \n",
      "=================================================================\n",
      "Total params: 97,440\n",
      "Trainable params: 97,440\n",
      "Non-trainable params: 0\n",
      "_________________________________________________________________\n",
      "None\n",
      "Getting data...\n"
     ]
    },
    {
     "name": "stderr",
     "output_type": "stream",
     "text": [
      "c:\\users\\hussamh10\\appdata\\local\\programs\\python\\python3564\\lib\\site-packages\\ipykernel_launcher.py:4: UserWarning: The `Merge` layer is deprecated and will be removed after 08/2017. Use instead layers from `keras.layers.merge`, e.g. `add`, `concatenate`, etc.\n",
      "  after removing the cwd from sys.path.\n"
     ]
    },
    {
     "name": "stdout",
     "output_type": "stream",
     "text": [
      "(1600, 224, 224, 3)\n",
      "(1600, 224, 224, 3) (1600, 2)\n",
      "Data ready\n",
      "Epoch 1/20\n"
     ]
    }
   ],
   "source": [
    "def fusedMain():\n",
    "    vmodel = getModelArchitecture((224, 224, 3), (28, 28))\n",
    "    amodel = getModelArchitecture((199, 257, 3), (25, 33))\n",
    "    \n",
    "    f = fusionBranch(vmodel, amodel)\n",
    "    f = trainFinal(f)\n",
    "\n",
    "    return f\n",
    "\n",
    "if __name__ == '__main__':\n",
    "    fusedMain()"
   ]
  }
 ],
 "metadata": {
  "kernelspec": {
   "display_name": "Python 3",
   "language": "python",
   "name": "python3"
  },
  "language_info": {
   "codemirror_mode": {
    "name": "ipython",
    "version": 3
   },
   "file_extension": ".py",
   "mimetype": "text/x-python",
   "name": "python",
   "nbconvert_exporter": "python",
   "pygments_lexer": "ipython3",
   "version": "3.5.2"
  }
 },
 "nbformat": 4,
 "nbformat_minor": 2
}
